{
  "cells": [
    {
      "cell_type": "markdown",
      "id": "0b55c9a8",
      "metadata": {
        "id": "0b55c9a8"
      },
      "source": [
        "## Fermi Pico Bagel\n",
        "\n",
        "\n",
        "## Step 1\n",
        "Store any number in string format(number to be guessed by player) in a variable `original_number`.\n",
        "\n",
        "For Example: original_number = '123'\n"
      ]
    },
    {
      "cell_type": "code",
      "execution_count": null,
      "id": "57a0a2d0",
      "metadata": {
        "id": "57a0a2d0"
      },
      "outputs": [],
      "source": [
        "original_number='123'\n"
      ]
    },
    {
      "cell_type": "markdown",
      "id": "fd43340c",
      "metadata": {
        "id": "fd43340c"
      },
      "source": [
        "## Step 2\n",
        "Take a number as user input and save it in a variable `guess_number`.(Make sure that the datatype of guess_number is same as of original number i.e- `str`)"
      ]
    },
    {
      "cell_type": "code",
      "execution_count": null,
      "id": "2e0075a7",
      "metadata": {
        "colab": {
          "base_uri": "https://localhost:8080/"
        },
        "id": "2e0075a7",
        "outputId": "f404ce4e-75f3-470b-8a0f-a688bcca5596"
      },
      "outputs": [
        {
          "name": "stdout",
          "output_type": "stream",
          "text": [
            "124\n"
          ]
        }
      ],
      "source": [
        "guess_number=(str(input()))"
      ]
    },
    {
      "cell_type": "markdown",
      "id": "22318243",
      "metadata": {
        "id": "22318243"
      },
      "source": [
        "## Step 3\n",
        "Check if total number of digits in `original_number` and `guess_number` is not same(Use `len()` function) then ask user for valid input.(First use `len()` to get total digits in `original_number` and `guess_number`.)"
      ]
    },
    {
      "cell_type": "code",
      "execution_count": null,
      "id": "258e2971",
      "metadata": {
        "colab": {
          "base_uri": "https://localhost:8080/"
        },
        "id": "258e2971",
        "outputId": "0802c1ce-50c5-41d5-bc77-f896f7f19962"
      },
      "outputs": [
        {
          "output_type": "stream",
          "name": "stdout",
          "text": [
            "valid input\n"
          ]
        }
      ],
      "source": [
        "if len(original_number) != len(guess_number):\n",
        "  print(\"invalid input\")\n",
        "else:\n",
        "  print('valid input')"
      ]
    },
    {
      "cell_type": "markdown",
      "id": "0c064bda",
      "metadata": {
        "id": "0c064bda"
      },
      "source": [
        "## Step 4\n",
        "Using `set()`, check if the digits are repeated in a `guess_number` .\n",
        "Note that datatype `set` allows unique values only.\n",
        "\n",
        "For ex. if `user_input`is 122, then it should print the string 'Duplicate number'  as digit 2 is repeated."
      ]
    },
    {
      "cell_type": "code",
      "source": [
        "if len(set(guess_number)) != len(original_number):\n",
        "  for i in guess_number:\n",
        "    if guess_number.count(i) > 1:\n",
        "      print('Duplicate number', i)\n",
        "      break\n"
      ],
      "metadata": {
        "id": "V1gNCUC4E_IQ"
      },
      "id": "V1gNCUC4E_IQ",
      "execution_count": null,
      "outputs": []
    },
    {
      "cell_type": "markdown",
      "id": "0514b8d9",
      "metadata": {
        "id": "0514b8d9"
      },
      "source": [
        "## Step 5\n",
        "Check winning condition i.e. if both `guess_number` and `original_number` are same, then print 'Fermi' as many number of times as number of digits in a number and print ' You win !! '.\n"
      ]
    },
    {
      "cell_type": "code",
      "execution_count": null,
      "id": "ab9379a5",
      "metadata": {
        "colab": {
          "base_uri": "https://localhost:8080/"
        },
        "id": "ab9379a5",
        "outputId": "e89067c9-513f-4a8e-c2b0-7dc9e0156f43"
      },
      "outputs": [
        {
          "output_type": "stream",
          "name": "stdout",
          "text": [
            "Fermi\n",
            "Fermi\n"
          ]
        }
      ],
      "source": [
        "count=0\n",
        "for i in set(original_number):\n",
        "  for j in set (guess_number):\n",
        "    if i==j:\n",
        "      count+=1\n",
        "      print('Fermi')\n",
        "\n",
        "if count==3:\n",
        "  print('You Win!!')\n"
      ]
    },
    {
      "cell_type": "markdown",
      "id": "96eca378",
      "metadata": {
        "id": "96eca378"
      },
      "source": [
        "## Step 6\n",
        "Create empty list called `output` where we will store the output in the form of list.\n",
        "\n",
        "For example: output = [ ' Fermi ', ' Pico ' ,' Pico ' ] ."
      ]
    },
    {
      "cell_type": "code",
      "execution_count": null,
      "id": "c047a839",
      "metadata": {
        "id": "c047a839"
      },
      "outputs": [],
      "source": [
        "output=[]"
      ]
    },
    {
      "cell_type": "markdown",
      "id": "4949309d",
      "metadata": {
        "id": "4949309d"
      },
      "source": [
        "## Step 7\n",
        "Check if any digit and it's position in both `guess_number` and `original_number` are same then append 'Fermi' to `output` list or if only digit matches and not the position then append 'Pico' to `output`.\n"
      ]
    },
    {
      "cell_type": "code",
      "source": [
        "for i in range (0,3):\n",
        "  if guess_number[i]==original_number[i]:\n",
        "    output.append('Fermi')\n",
        "  elif guess_number[i] in original_number:\n",
        "    output.append('Pico')\n",
        "\n",
        "\n",
        "\n",
        "output"
      ],
      "metadata": {
        "colab": {
          "base_uri": "https://localhost:8080/"
        },
        "id": "sEG2uDNLRIuK",
        "outputId": "baf47085-b620-4ad8-e279-3f91eed5ee38"
      },
      "id": "sEG2uDNLRIuK",
      "execution_count": null,
      "outputs": [
        {
          "output_type": "execute_result",
          "data": {
            "text/plain": [
              "['Fermi', 'Fermi']"
            ]
          },
          "metadata": {},
          "execution_count": 381
        }
      ]
    },
    {
      "cell_type": "markdown",
      "id": "59e62457",
      "metadata": {
        "id": "59e62457"
      },
      "source": [
        "## Step 8\n",
        "Define a variable called `output_string` which has all values from a list `output` with each value separated by space. (Use 'for' loop to get all the values from a list `output`.)"
      ]
    },
    {
      "cell_type": "code",
      "execution_count": null,
      "id": "d15c8f60",
      "metadata": {
        "colab": {
          "base_uri": "https://localhost:8080/"
        },
        "id": "d15c8f60",
        "outputId": "9af1d164-b327-4c25-877d-2ffc10259f73"
      },
      "outputs": [
        {
          "output_type": "stream",
          "name": "stdout",
          "text": [
            "Fermi Fermi "
          ]
        }
      ],
      "source": [
        "output_string=output\n",
        "for i in output_string:\n",
        "  print(i,end=' ')\n"
      ]
    },
    {
      "cell_type": "markdown",
      "id": "f3f50bef",
      "metadata": {
        "id": "f3f50bef"
      },
      "source": [
        "## Step 9\n",
        "Check if neither any digit nor any position matches i.e. if length of `output` list is zero then print `Bagel`.\n",
        "\n",
        "Otherwise print `output_string`."
      ]
    },
    {
      "cell_type": "code",
      "execution_count": null,
      "id": "3c568356",
      "metadata": {
        "id": "3c568356"
      },
      "outputs": [],
      "source": [
        "if len(output)==0:\n",
        "  print('Bagel')\n"
      ]
    },
    {
      "cell_type": "markdown",
      "id": "9d4a684d",
      "metadata": {
        "id": "9d4a684d"
      },
      "source": [
        "## Step 10\n",
        "\n",
        "## Complete game\n",
        "Here use continue and break statements at appropriate places."
      ]
    },
    {
      "cell_type": "code",
      "execution_count": 1,
      "id": "79843cdf",
      "metadata": {
        "colab": {
          "base_uri": "https://localhost:8080/"
        },
        "id": "79843cdf",
        "outputId": "306c0ef8-07ad-4004-b124-05a61ed989f6"
      },
      "outputs": [
        {
          "output_type": "stream",
          "name": "stdout",
          "text": [
            "232\n",
            "Duplicate number 2\n",
            "Duplicate number 2\n",
            "234\n",
            "Pico Pico 124\n",
            "Fermi Fermi 125\n",
            "Fermi Fermi 123\n",
            "You Win!!\n"
          ]
        }
      ],
      "source": [
        "# Step 1\n",
        "original_number = '123'\n",
        "\n",
        "# Step 2: Create infinite while loop\n",
        "while True:\n",
        "    # Step 2 and Step 6\n",
        "    guess_number = str(input(\"Enter your guess: \"))\n",
        "    output = []\n",
        "\n",
        "    # Step 3 and Step 4: Check if input is valid (length must match, no duplicates)\n",
        "    if len(guess_number) != len(original_number):\n",
        "        print(\"Invalid input: Length mismatch.\")\n",
        "        continue\n",
        "\n",
        "    if len(set(guess_number)) != len(guess_number):\n",
        "        for i in guess_number:\n",
        "            if guess_number.count(i) > 1:\n",
        "                print(\"Duplicate number:\", i)\n",
        "        continue\n",
        "\n",
        "    # Step 5: Winning condition\n",
        "    if original_number == guess_number:\n",
        "        print(\"You Win!!\")\n",
        "        break\n",
        "\n",
        "    # Step 7: Check for Fermi, Pico\n",
        "    for i in range(len(original_number)):\n",
        "        if guess_number[i] == original_number[i]:\n",
        "            output.append('Fermi')\n",
        "        elif guess_number[i] in original_number:\n",
        "            output.append('Pico')\n",
        "\n",
        "    # Step 8: Print output\n",
        "    if output:\n",
        "        for hint in output:\n",
        "            print(hint, end=' ')\n",
        "        print()\n",
        "    else:\n",
        "        print('Bagel')\n"
      ]
    },
    {
      "cell_type": "markdown",
      "source": [
        "For Random Guessing number\n"
      ],
      "metadata": {
        "id": "PS__hOp9gbhn"
      },
      "id": "PS__hOp9gbhn"
    },
    {
      "cell_type": "code",
      "source": [
        "import random\n",
        "\n",
        "# Step 1: Generate random 3-digit number with unique digits\n",
        "digits = list('0123456789')\n",
        "random.shuffle(digits)\n",
        "original_number = ''.join(digits[:3])\n",
        "\n",
        "# Uncomment below line if you want to see the answer for testing:\n",
        "# print(\"Secret Number (for testing):\", original_number)\n",
        "\n",
        "# Step 2: Create infinite while loop\n",
        "while True:\n",
        "    # Step 2 and Step 6\n",
        "    guess_number = str(input(\"Enter your 3-digit guess (no duplicate digits): \"))\n",
        "    output = []\n",
        "\n",
        "    # Step 3 and Step 4: Validate input\n",
        "    if len(guess_number) != 3:\n",
        "        print(\"Invalid input: Your guess must be exactly 3 digits.\")\n",
        "        continue\n",
        "\n",
        "    if not guess_number.isdigit():\n",
        "        print(\"Invalid input: Please enter only digits.\")\n",
        "        continue\n",
        "\n",
        "    if len(set(guess_number)) != 3:\n",
        "        for i in guess_number:\n",
        "            if guess_number.count(i) > 1:\n",
        "                print(\"Duplicate number:\", i)\n",
        "        continue\n",
        "\n",
        "    # Step 5: Winning condition\n",
        "    if original_number == guess_number:\n",
        "        print('You Win!!')\n",
        "        break\n",
        "\n",
        "    # Step 7: Check for Fermi, Pico\n",
        "    for i in range(3):\n",
        "        if guess_number[i] == original_number[i]:\n",
        "            output.append('Fermi')\n",
        "        elif guess_number[i] in original_number:\n",
        "            output.append('Pico')\n",
        "\n",
        "    # Step 8: Output hints\n",
        "    if output:\n",
        "        for hint in output:\n",
        "            print(hint, end=' ')\n",
        "        print()\n",
        "    else:\n",
        "        print('Bagel')\n"
      ],
      "metadata": {
        "id": "mTojgvGQXVzg",
        "colab": {
          "base_uri": "https://localhost:8080/"
        },
        "outputId": "3152a664-3fcc-43ce-b565-707c333ba419"
      },
      "id": "mTojgvGQXVzg",
      "execution_count": 2,
      "outputs": [
        {
          "output_type": "stream",
          "name": "stdout",
          "text": [
            "Enter your 3-digit guess (no duplicate digits): \n",
            "Invalid input: Your guess must be exactly 3 digits.\n",
            "Enter your 3-digit guess (no duplicate digits): 234\n",
            "Fermi \n",
            "Enter your 3-digit guess (no duplicate digits): 245\n",
            "Fermi \n",
            "Enter your 3-digit guess (no duplicate digits): 267\n",
            "Fermi Pico Pico \n",
            "Enter your 3-digit guess (no duplicate digits): 276\n",
            "You Win!!\n"
          ]
        }
      ]
    },
    {
      "cell_type": "code",
      "source": [
        "123"
      ],
      "metadata": {
        "id": "k3FJh7AEgkLe"
      },
      "id": "k3FJh7AEgkLe",
      "execution_count": null,
      "outputs": []
    }
  ],
  "metadata": {
    "kernelspec": {
      "display_name": "Python 3",
      "language": "python",
      "name": "python3"
    },
    "language_info": {
      "codemirror_mode": {
        "name": "ipython",
        "version": 3
      },
      "file_extension": ".py",
      "mimetype": "text/x-python",
      "name": "python",
      "nbconvert_exporter": "python",
      "pygments_lexer": "ipython3",
      "version": "3.8.8"
    },
    "colab": {
      "provenance": []
    }
  },
  "nbformat": 4,
  "nbformat_minor": 5
}